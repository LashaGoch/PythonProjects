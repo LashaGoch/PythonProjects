from bottle import route, run, template, request, debug, static_file, error, get, post, Bottle

import sqlite3
conn = sqlite3.connect('database.db')
c = conn.cursor()

# creating tables

c.execute("CREATE TABLE Admin (ID_User VARCHAR(2)primary key, Name VARCHAR(30), Surname VARCHAR(30), Username VARCHAR(25), [Email] VARCHAR(100), Password VARCHAR(100))")
c.execute("CREATE TABLE Brand (ID_Brand VARCHAR(3) primary key, Brand VARCHAR(50))")
c.execute("CREATE TABLE Date (ID_Date int primary key, Date int)")
c.execute("CREATE TABLE Division (ID_Division VARCHAR(3) primary key, Division VARCHAR(50))")
c.execute("CREATE TABLE Image (ID_Image VARCHAR(3) primary key, Image VARCHAR(30))")
c.execute("CREATE TABLE Industry (ID_Industry VARCHAR(3) primary key, Industry VARCHAR(50))")
c.execute("CREATE TABLE Language (ID_Language VARCHAR(2) primary key, Language VARCHAR(50))")
c.execute("CREATE TABLE Product (ID_Product VARCHAR(3) primary key, Product VARCHAR(50))")
c.execute("CREATE TABLE Provider (ID_Provider VARCHAR(3) primary key, Provider VARCHAR(50))")
c.execute("CREATE TABLE Region (ID_Region VARCHAR(3) primary key, Region VARCHAR(25))")
c.execute("CREATE TABLE Source (ID_Source VARCHAR(3) primary key, Source VARCHAR(15))")
c.execute("CREATE TABLE User (ID_User VARCHAR(2) primary key, User VARCHAR(50))")
c.execute("CREATE TABLE geNames (Name9 VARCHAR(350), Names8 VARCHAR(100), Name7 VARCHAR(30),Names6 VARCHAR(100), Name5 VARCHAR(30),Names4 VARCHAR(100), Name3 VARCHAR(30),Names2 VARCHAR(100), Name1 VARCHAR(30))")

# creating lists

listad = [('LG','Lasha','Gochiashvili','lasha','l.gochiashvili@student.uw.edu.pl','lasha123'),
          ('EC','Erim','Celen', 'erim', 'm.celen@student.uw.edu.pl', 'erim123')]
listbr = [("IIP", "iPhone"),("MCB", "MacBook Air"),("IBT", "iBottle")]
listda = [("2001", "2020 Jan"),("2002", "2020 Feb"),("2003", "2020 Mar"),
          ("2004", "2020 Apr"),("2005", "2020 May"),("2006", "2020 Jun"),
          ("2007", "2020 Jul"),("2008", "2020 Aug"),("2009", "2020 Sep"),
          ("2010", "2020 Oct"),("2011", "2020 Nov"),("2012", "2020 Dec")]
listdi = [("MLT", "Multiple"),("MAR", "Marketing"),
          ("SAL", "Sales"),("FIN", "Finance")]
listim = [("SML", "Small"),("MED", "Medium"),("BIG", "Big")]
listin = [("MLT", "Multiple"),("FOD", "Food"),("BEV", "Beverages"),
          ("ELT", "Electronics"),("ETC", "Others")]
listla = [("00", "Multiple"),("en", "English"),("es", "Spanish"),("de", "German")]
listpr = [("MLT", "Multiple"),("IPH", "Phones"),("ICO", "Computers"),("IBT", "Bottles")]
listpo = [("APP", "Apple, Inc"),("MLT", "Multiple"),
          ("CIA", "Central Intelligence Agency"),("FBI", "Federal Bureau of Investigation")]
listre = [("MLT", "Multiple"),("EME", "EMEA"),("AME", "AMERICA"),("APA", "APAC")]
listso = [("INT", "Internal"),("EXT", "External")]
listus = [("LG", "Lasha Gochiashvili"),("EC", "Erim Celen"),("MP", "Marco Polo"),("DA", "David Adams"),("AS", "Adam Smith")]

# adding lists into tables

c.executemany('INSERT INTO Admin VALUES (?,?,?,?,?,?)', listad)
c.executemany('INSERT INTO Brand VALUES (?,?)', listbr)
c.executemany('INSERT INTO Date VALUES (?,?)', listda)
c.executemany('INSERT INTO Division VALUES (?,?)', listdi)
c.executemany('INSERT INTO Image VALUES (?,?)', listim)
c.executemany('INSERT INTO Industry VALUES (?,?)', listin)
c.executemany('INSERT INTO Language VALUES (?,?)', listla)
c.executemany('INSERT INTO Product VALUES (?,?)', listpr)
c.executemany('INSERT INTO Provider VALUES (?,?)', listpo)
c.executemany('INSERT INTO Region VALUES (?,?)', listre)
c.executemany('INSERT INTO Source VALUES (?,?)', listso)
c.executemany('INSERT INTO User VALUES (?,?)', listus)

conn.commit()
conn.close()
